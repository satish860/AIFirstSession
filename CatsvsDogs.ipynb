{
 "cells": [
  {
   "cell_type": "markdown",
   "metadata": {
    "collapsed": true
   },
   "source": [
    "# Dogs vs Cats Redux "
   ]
  },
  {
   "cell_type": "markdown",
   "metadata": {},
   "source": [
    "    Kaggle conducted a comptetion under a image classification category ."
   ]
  },
  {
   "cell_type": "code",
   "execution_count": 7,
   "metadata": {},
   "outputs": [
    {
     "name": "stdout",
     "output_type": "stream",
     "text": [
      "mkdir: cannot create directory 'train/dogs': File exists\n",
      "mkdir: cannot create directory 'train/cats': File exists\n"
     ]
    }
   ],
   "source": [
    "%mkdir train/dogs\n",
    "%mkdir train/cats\n",
    "%mv train/cat.*.jpg train/cats"
   ]
  },
  {
   "cell_type": "code",
   "execution_count": 8,
   "metadata": {
    "collapsed": true
   },
   "outputs": [],
   "source": [
    "%mv train/dog.*.jpg train/dogs"
   ]
  },
  {
   "cell_type": "code",
   "execution_count": null,
   "metadata": {
    "collapsed": true
   },
   "outputs": [],
   "source": [
    "%mkdir sample\n",
    "%mkdir sample/train\n",
    "%mkdir sample/train/dogs\n",
    "%mkdir sample/train/cats"
   ]
  },
  {
   "cell_type": "code",
   "execution_count": 10,
   "metadata": {},
   "outputs": [
    {
     "name": "stdout",
     "output_type": "stream",
     "text": [
      "mkdir: cannot create directory 'sample': File exists\r\n"
     ]
    }
   ],
   "source": [
    "%mkdir sample\n",
    "%mkdir sample/validation\n",
    "%mkdir sample/validation/dogs\n",
    "%mkdir sample/validation/cats"
   ]
  },
  {
   "cell_type": "code",
   "execution_count": 13,
   "metadata": {},
   "outputs": [
    {
     "name": "stdout",
     "output_type": "stream",
     "text": [
      "rm: cannot remove 'sample/train/cats/cat*.jpg': No such file or directory\n",
      "rm: cannot remove 'sample/train/dogs/cat*.jpg': No such file or directory\n",
      "rm: cannot remove 'sample/validation/cats/cat*.jpg': No such file or directory\n",
      "rm: cannot remove 'sample/validation/cats/cat*.jpg': No such file or directory\n"
     ]
    }
   ],
   "source": [
    "\n",
    "%rm sample/train/dogs/cat*.jpg\n",
    "%rm sample/validation/cats/cat*.jpg\n",
    "%rm sample/validation/cats/cat*.jpg"
   ]
  },
  {
   "cell_type": "markdown",
   "metadata": {
    "collapsed": true
   },
   "source": [
    "Get a Random number between 1 to 13000 because there are 13000  images availble in the train and test Folders"
   ]
  },
  {
   "cell_type": "code",
   "execution_count": 23,
   "metadata": {
    "collapsed": true
   },
   "outputs": [],
   "source": [
    "from random import randint\n",
    "import shutil\n",
    "import os\n",
    "random_image_cat=[randint(0,13000) for p in range(0,8)]\n",
    "\n",
    "dest_folder=\"./sample/train/cats\"\n",
    "%rm sample/train/cats/cat*.jpg\n",
    "for randnumber in random_image_cat :\n",
    "   filepath = \"./train/cats/cat.\"+str(randnumber)+\".jpg\"\n",
    "   if os.path.isfile(filepath) :\n",
    "       shutil.copy(filepath,dest_folder)"
   ]
  },
  {
   "cell_type": "code",
   "execution_count": 29,
   "metadata": {
    "collapsed": true
   },
   "outputs": [],
   "source": [
    "random_image_dog=[randint(0,13000) for p in range(0,8)]\n",
    "dest_folder=\"./sample/train/dogs\"\n",
    "%rm sample/train/dogs/dog*.jpg\n",
    "for randnumber in random_image_dog :\n",
    "   filepath = \"./train/dogs/dog.\"+str(randnumber)+\".jpg\"\n",
    "   if os.path.isfile(filepath) :\n",
    "       shutil.copy(filepath,dest_folder)"
   ]
  },
  {
   "cell_type": "code",
   "execution_count": 30,
   "metadata": {
    "collapsed": true
   },
   "outputs": [],
   "source": [
    "random_image_dog=[randint(0,13000) for p in range(0,8)]\n",
    "dest_folder=\"./sample/validation/dogs\"\n",
    "%rm sample/train/dogs/dog*.jpg\n",
    "for randnumber in random_image_dog :\n",
    "   filepath = \"./train/dogs/dog.\"+str(randnumber)+\".jpg\"\n",
    "   if os.path.isfile(filepath) :\n",
    "       shutil.copy(filepath,dest_folder)"
   ]
  },
  {
   "cell_type": "code",
   "execution_count": 31,
   "metadata": {
    "collapsed": true
   },
   "outputs": [],
   "source": [
    "dest_folder=\"./sample/validation/cats\"\n",
    "%rm sample/train/cats/cat*.jpg\n",
    "for randnumber in random_image_cat :\n",
    "   filepath = \"./train/cats/cat.\"+str(randnumber)+\".jpg\"\n",
    "   if os.path.isfile(filepath) :\n",
    "       shutil.copy(filepath,dest_folder)"
   ]
  },
  {
   "cell_type": "code",
   "execution_count": 1,
   "metadata": {},
   "outputs": [
    {
     "name": "stderr",
     "output_type": "stream",
     "text": [
      "Using TensorFlow backend.\n"
     ]
    }
   ],
   "source": [
    "import keras\n"
   ]
  }
 ],
 "metadata": {
  "kernelspec": {
   "display_name": "Python 3",
   "language": "python",
   "name": "python3"
  },
  "language_info": {
   "codemirror_mode": {
    "name": "ipython",
    "version": 3
   },
   "file_extension": ".py",
   "mimetype": "text/x-python",
   "name": "python",
   "nbconvert_exporter": "python",
   "pygments_lexer": "ipython3",
   "version": "3.5.2"
  }
 },
 "nbformat": 4,
 "nbformat_minor": 2
}
